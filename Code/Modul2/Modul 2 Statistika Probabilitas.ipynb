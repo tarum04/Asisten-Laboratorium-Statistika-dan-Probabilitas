{
 "cells": [
  {
   "cell_type": "code",
   "execution_count": 1,
   "id": "2e6b07af",
   "metadata": {},
   "outputs": [
    {
     "name": "stdout",
     "output_type": "stream",
     "text": [
      "[1, 2, -5, 0.3, 6, -2, 4]\n",
      "['one', 'two', 'three']\n",
      "[True, True, True, False, True]\n"
     ]
    }
   ],
   "source": [
    "a = [1, 2, -5, 0.3, 6, -2, 4]  # numeric vector\n",
    "b = [\"one\", \"two\", \"three\"]     # character vector\n",
    "c = [True, True, True, False, True]  # logical vector\n",
    "print(a)\n",
    "print(b)\n",
    "print(c)\n"
   ]
  },
  {
   "cell_type": "code",
   "execution_count": 2,
   "id": "246fc04b",
   "metadata": {},
   "outputs": [
    {
     "name": "stdout",
     "output_type": "stream",
     "text": [
      "[[  3  15]\n",
      " [-27  38]]\n"
     ]
    }
   ],
   "source": [
    "#MATRIKS\n",
    "import numpy as np\n",
    "cells = [3, 15, -27, 38]\n",
    "r_tarum = [\"R1\", \"R2\"]\n",
    "c_tarum = [\"C1\", \"C2\"]\n",
    "tarum_matrix = np.matrix(cells).reshape(2, 2)\n",
    "print(tarum_matrix)\n"
   ]
  },
  {
   "cell_type": "code",
   "execution_count": 3,
   "id": "3dd579aa",
   "metadata": {},
   "outputs": [
    {
     "name": "stdout",
     "output_type": "stream",
     "text": [
      "   ID  Color  Passed\n",
      "0   1    red    True\n",
      "1   2  white    True\n",
      "2   3    red    True\n",
      "3   4    NaN   False\n"
     ]
    }
   ],
   "source": [
    "import pandas as pd\n",
    "import numpy as np\n",
    "\n",
    "tarum1 = [1, 2, 3, 4]\n",
    "tarum2 = [\"red\", \"white\", \"red\", np.nan]  # Menggunakan np.nan untuk merepresentasikan NA\n",
    "tarum3 = [True, True, True, False]\n",
    "\n",
    "data_tarum = pd.DataFrame({'ID': tarum1, 'Color': tarum2, 'Passed': tarum3})\n",
    "print(data_tarum)\n"
   ]
  },
  {
   "cell_type": "code",
   "execution_count": 4,
   "id": "da970ab4",
   "metadata": {},
   "outputs": [
    {
     "name": "stdout",
     "output_type": "stream",
     "text": [
      "  id   x   y\n",
      "0  a   1  11\n",
      "1  b   2  12\n",
      "2  c   3  13\n",
      "3  d   4  14\n",
      "4  e   5  15\n",
      "5  f   6  16\n",
      "6  g   7  17\n",
      "7  h   8  18\n",
      "8  i   9  19\n",
      "9  j  10  20\n"
     ]
    }
   ],
   "source": [
    "import pandas as pd\n",
    "\n",
    "data_tarum = pd.DataFrame({'id': list('abcdefghij'), 'x': list(range(1, 11)), 'y': list(range(11, 21))})\n",
    "print(data_tarum)\n"
   ]
  },
  {
   "cell_type": "code",
   "execution_count": 5,
   "id": "d310555e",
   "metadata": {},
   "outputs": [
    {
     "name": "stdout",
     "output_type": "stream",
     "text": [
      "Collecting mysql-connector-python\n",
      "  Downloading mysql_connector_python-8.3.0-cp310-cp310-win_amd64.whl (15.4 MB)\n",
      "     --------------------------------------- 15.4/15.4 MB 86.2 kB/s eta 0:00:00\n",
      "Installing collected packages: mysql-connector-python\n",
      "Successfully installed mysql-connector-python-8.3.0\n",
      "Note: you may need to restart the kernel to use updated packages.\n"
     ]
    }
   ],
   "source": [
    "pip install mysql-connector-python"
   ]
  },
  {
   "cell_type": "code",
   "execution_count": 30,
   "id": "84007f69",
   "metadata": {},
   "outputs": [
    {
     "name": "stdout",
     "output_type": "stream",
     "text": [
      "\n",
      "Hasil Kueri:\n",
      "(114300, 1790, 2, 2, 2, 'No', 'East')\n",
      "(114200, 2030, 4, 2, 3, 'No', 'East')\n",
      "(114800, 1740, 3, 2, 1, 'No', 'East')\n",
      "(94700, 1980, 3, 2, 3, 'No', 'East')\n",
      "(119800, 2130, 3, 3, 3, 'No', 'East')\n",
      "(114600, 1780, 3, 2, 2, 'No', 'North')\n",
      "(151600, 1830, 3, 3, 3, 'Yes', 'West')\n",
      "(150700, 2160, 4, 2, 2, 'No', 'West')\n",
      "(119200, 2110, 4, 2, 3, 'No', 'East')\n",
      "(104000, 1730, 3, 3, 3, 'No', 'East')\n",
      "(132500, 2030, 3, 2, 3, 'Yes', 'East')\n",
      "(123000, 1870, 2, 2, 2, 'Yes', 'East')\n",
      "(102600, 1910, 3, 2, 4, 'No', 'North')\n",
      "(126300, 2150, 3, 3, 5, 'Yes', 'North')\n",
      "(176800, 2590, 4, 3, 4, 'No', 'West')\n",
      "(145800, 1780, 4, 2, 1, 'No', 'West')\n",
      "(147100, 2190, 3, 3, 4, 'Yes', 'East')\n",
      "(83600, 1990, 3, 3, 4, 'No', 'North')\n",
      "(111400, 1700, 2, 2, 1, 'Yes', 'East')\n",
      "(167200, 1920, 3, 3, 2, 'Yes', 'West')\n",
      "(116200, 1790, 3, 2, 3, 'No', 'East')\n",
      "(113800, 2000, 3, 2, 4, 'No', 'North')\n",
      "(91700, 1690, 3, 2, 3, 'No', 'North')\n",
      "(106100, 1820, 3, 2, 3, 'Yes', 'North')\n",
      "(156400, 2210, 4, 3, 2, 'Yes', 'East')\n",
      "(149300, 2290, 4, 3, 3, 'No', 'North')\n",
      "(137000, 2000, 4, 2, 3, 'No', 'West')\n",
      "(99300, 1700, 3, 2, 2, 'No', 'East')\n",
      "(69100, 1600, 2, 2, 3, 'No', 'North')\n",
      "(188000, 2040, 4, 3, 1, 'Yes', 'West')\n",
      "(182000, 2250, 4, 3, 3, 'Yes', 'West')\n",
      "(112300, 1930, 2, 2, 2, 'Yes', 'North')\n",
      "(135000, 2250, 3, 3, 3, 'Yes', 'East')\n",
      "(139600, 2280, 5, 3, 4, 'Yes', 'East')\n",
      "(117800, 2000, 2, 2, 3, 'No', 'North')\n",
      "(117100, 2080, 3, 3, 3, 'No', 'North')\n",
      "(117500, 1880, 2, 2, 2, 'No', 'North')\n",
      "(147000, 2420, 4, 3, 4, 'No', 'West')\n",
      "(131300, 1720, 3, 2, 1, 'No', 'West')\n",
      "(108200, 1740, 3, 2, 2, 'No', 'North')\n",
      "(106600, 1560, 2, 2, 1, 'No', 'East')\n",
      "(133600, 1840, 4, 3, 2, 'No', 'West')\n",
      "(105600, 1990, 2, 2, 3, 'No', 'East')\n",
      "(154000, 1920, 3, 2, 1, 'Yes', 'East')\n",
      "(166500, 1940, 3, 3, 2, 'Yes', 'West')\n",
      "(103200, 1810, 3, 2, 3, 'No', 'East')\n",
      "(129800, 1990, 2, 3, 2, 'No', 'North')\n",
      "(90300, 2050, 3, 2, 6, 'No', 'North')\n",
      "(115900, 1980, 2, 2, 2, 'No', 'East')\n",
      "(107500, 1700, 3, 2, 3, 'Yes', 'North')\n",
      "(151100, 2100, 3, 2, 3, 'Yes', 'East')\n",
      "(91100, 1860, 2, 2, 3, 'No', 'North')\n",
      "(117400, 2150, 2, 3, 4, 'No', 'North')\n",
      "(130800, 2100, 3, 2, 3, 'No', 'North')\n",
      "(81300, 1650, 3, 2, 3, 'No', 'North')\n",
      "(125700, 1720, 2, 2, 2, 'Yes', 'East')\n",
      "(140900, 2190, 3, 2, 3, 'Yes', 'East')\n",
      "(152300, 2240, 4, 3, 3, 'No', 'West')\n",
      "(138100, 1840, 3, 3, 1, 'No', 'West')\n",
      "(155400, 2090, 4, 2, 1, 'No', 'West')\n",
      "(180900, 2200, 3, 3, 1, 'No', 'West')\n",
      "(100900, 1610, 2, 2, 2, 'No', 'North')\n",
      "(161300, 2220, 4, 3, 2, 'No', 'West')\n",
      "(120500, 1910, 2, 3, 2, 'No', 'East')\n",
      "(130300, 1860, 3, 2, 2, 'No', 'West')\n",
      "(111100, 1450, 2, 2, 1, 'Yes', 'North')\n",
      "(126200, 2210, 3, 3, 4, 'No', 'North')\n",
      "(151900, 2040, 4, 3, 3, 'No', 'East')\n",
      "(93600, 2140, 3, 2, 4, 'No', 'North')\n",
      "(165600, 2080, 4, 3, 3, 'No', 'West')\n",
      "(166700, 1950, 3, 3, 3, 'Yes', 'West')\n",
      "(157600, 2160, 4, 2, 1, 'No', 'West')\n",
      "(107300, 1650, 3, 2, 3, 'No', 'North')\n",
      "(125700, 2040, 3, 3, 2, 'No', 'East')\n",
      "(144200, 2140, 3, 3, 3, 'No', 'West')\n",
      "(106900, 1900, 2, 2, 2, 'No', 'North')\n",
      "(129800, 1930, 3, 2, 2, 'No', 'West')\n",
      "(176500, 2280, 4, 3, 3, 'Yes', 'West')\n",
      "(121300, 2130, 3, 2, 3, 'No', 'North')\n",
      "(143600, 1780, 4, 2, 1, 'No', 'West')\n",
      "(143400, 2190, 3, 3, 4, 'Yes', 'East')\n",
      "(184300, 2140, 4, 3, 2, 'Yes', 'West')\n",
      "(164800, 2050, 2, 2, 1, 'Yes', 'West')\n",
      "(147700, 2410, 3, 3, 2, 'No', 'East')\n",
      "(90500, 1520, 2, 2, 3, 'No', 'North')\n",
      "(188300, 2250, 4, 3, 2, 'Yes', 'West')\n",
      "(102700, 1900, 4, 2, 4, 'No', 'North')\n",
      "(172500, 1880, 3, 3, 1, 'Yes', 'West')\n",
      "(127700, 1930, 3, 3, 2, 'No', 'North')\n",
      "(97800, 2010, 2, 2, 4, 'No', 'North')\n",
      "(143100, 1920, 4, 2, 2, 'No', 'West')\n",
      "(116500, 2150, 3, 2, 2, 'No', 'East')\n",
      "(142600, 2110, 3, 2, 2, 'No', 'West')\n",
      "(157100, 2080, 3, 3, 2, 'No', 'East')\n",
      "(160600, 2150, 4, 3, 3, 'Yes', 'West')\n",
      "(152500, 1970, 2, 2, 1, 'Yes', 'West')\n",
      "(133300, 2440, 3, 3, 3, 'No', 'East')\n",
      "(126800, 2000, 2, 2, 1, 'Yes', 'East')\n",
      "(145500, 2060, 3, 2, 1, 'No', 'West')\n",
      "(171000, 2080, 3, 3, 2, 'Yes', 'West')\n",
      "(103200, 2010, 3, 2, 5, 'No', 'North')\n",
      "(123100, 2260, 3, 3, 5, 'No', 'East')\n",
      "(136800, 2410, 3, 3, 4, 'No', 'East')\n",
      "(211200, 2440, 4, 3, 3, 'Yes', 'West')\n",
      "(82300, 1910, 3, 2, 4, 'No', 'East')\n",
      "(146900, 2530, 4, 3, 4, 'No', 'West')\n",
      "(108500, 2130, 3, 2, 4, 'No', 'North')\n",
      "(134000, 1890, 3, 2, 1, 'Yes', 'East')\n",
      "(117000, 1990, 3, 3, 3, 'Yes', 'East')\n",
      "(108700, 2110, 3, 2, 3, 'No', 'East')\n",
      "(111600, 1710, 2, 2, 1, 'No', 'North')\n",
      "(114900, 1740, 2, 2, 2, 'No', 'North')\n",
      "(123600, 1940, 2, 2, 2, 'Yes', 'East')\n",
      "(115700, 2000, 3, 2, 3, 'Yes', 'North')\n",
      "(124500, 2010, 4, 3, 2, 'No', 'East')\n",
      "(102500, 1900, 3, 3, 3, 'No', 'North')\n",
      "(199500, 2290, 5, 4, 1, 'Yes', 'West')\n",
      "(117800, 1920, 3, 2, 2, 'No', 'North')\n",
      "(150200, 1950, 3, 2, 3, 'Yes', 'North')\n",
      "(109700, 1920, 2, 2, 4, 'No', 'North')\n",
      "(110400, 1930, 2, 3, 3, 'No', 'North')\n",
      "(105600, 1930, 3, 3, 3, 'No', 'East')\n",
      "(144800, 2060, 2, 2, 1, 'Yes', 'East')\n",
      "(119700, 1900, 3, 3, 3, 'Yes', 'East')\n",
      "(147900, 2160, 4, 3, 3, 'Yes', 'East')\n",
      "(113500, 2070, 2, 2, 2, 'No', 'North')\n",
      "(149900, 2020, 3, 3, 1, 'No', 'West')\n",
      "(124600, 2250, 3, 3, 4, 'No', 'North')\n"
     ]
    }
   ],
   "source": [
    "import mysql.connector\n",
    "\n",
    "# Membuat koneksi ke MySQL\n",
    "connection = mysql.connector.connect(\n",
    "    host=\"localhost\",\n",
    "    user=\"root\",\n",
    "    password=\"\",\n",
    "    database=\"houseprices1\"\n",
    ")\n",
    "\n",
    "# Membuat objek cursor untuk mengeksekusi kueri\n",
    "cursor = connection.cursor()\n",
    "\n",
    "try:\n",
    "    # Mengeksekusi kueri SQL\n",
    "    my_query = \"SELECT * FROM tarum_houseprices;\"\n",
    "    cursor.execute(my_query)\n",
    "    \n",
    "    # Mengambil semua hasil kueri\n",
    "    result = cursor.fetchall()\n",
    "    \n",
    "    # Menampilkan hasil kueri\n",
    "    print(\"\\nHasil Kueri:\")\n",
    "    for row in result:\n",
    "        print(row)\n",
    "\n",
    "finally:\n",
    "    # Menutup kursor dan koneksi\n",
    "    cursor.close()\n",
    "    connection.close()\n",
    "\n"
   ]
  },
  {
   "cell_type": "code",
   "execution_count": 31,
   "id": "1091eff2",
   "metadata": {},
   "outputs": [
    {
     "name": "stdout",
     "output_type": "stream",
     "text": [
      "\n",
      "Hasil Filter:\n",
      "      Price  SqFt  Bedrooms  Bathrooms  Offers Brick Neighborhood\n",
      "0    114300  1790         2          2       2    No         East\n",
      "1    114200  2030         4          2       3    No         East\n",
      "2    114800  1740         3          2       1    No         East\n",
      "3     94700  1980         3          2       3    No         East\n",
      "4    119800  2130         3          3       3    No         East\n",
      "..      ...   ...       ...        ...     ...   ...          ...\n",
      "120  110400  1930         2          3       3    No        North\n",
      "121  105600  1930         3          3       3    No         East\n",
      "125  113500  2070         2          2       2    No        North\n",
      "126  149900  2020         3          3       1    No         West\n",
      "127  124600  2250         3          3       4    No        North\n",
      "\n",
      "[86 rows x 7 columns]\n"
     ]
    }
   ],
   "source": [
    "import pandas as pd\n",
    "# Mengonversi hasil kueri ke DataFrame Pandas\n",
    "df = pd.DataFrame(result, columns=[desc[0] for desc in cursor.description])\n",
    "\n",
    "# Filter data berdasarkan kolom 'Brick' yang bernilai 'No'\n",
    "df_filtered = df[df['Brick'] == 'No']\n",
    "\n",
    "# Menampilkan hasil filter\n",
    "print(\"\\nHasil Filter:\")\n",
    "print(df_filtered)"
   ]
  },
  {
   "cell_type": "code",
   "execution_count": 32,
   "id": "9a8b5e83",
   "metadata": {},
   "outputs": [
    {
     "name": "stdout",
     "output_type": "stream",
     "text": [
      "      Price  SqFt  Bedrooms  Bathrooms  Offers Brick Neighborhood\n",
      "0    114300  1790         2          2       2    No         East\n",
      "1    114200  2030         4          2       3    No         East\n",
      "2    114800  1740         3          2       1    No         East\n",
      "3     94700  1980         3          2       3    No         East\n",
      "4    119800  2130         3          3       3    No         East\n",
      "..      ...   ...       ...        ...     ...   ...          ...\n",
      "123  119700  1900         3          3       3   Yes         East\n",
      "124  147900  2160         4          3       3   Yes         East\n",
      "125  113500  2070         2          2       2    No        North\n",
      "126  149900  2020         3          3       1    No         West\n",
      "127  124600  2250         3          3       4    No        North\n",
      "\n",
      "[105 rows x 7 columns]\n"
     ]
    }
   ],
   "source": [
    "import pandas as pd\n",
    "# Mengonversi hasil kueri ke DataFrame Pandas\n",
    "df = pd.DataFrame(result, columns=[desc[0] for desc in cursor.description])\n",
    "\n",
    "# Filter data berdasarkan kondisi yang kompleks\n",
    "df_filtered = df[(df['Brick'] == 'No') | (df['Neighborhood'] == 'East')]\n",
    "\n",
    "# Menampilkan hasil filter\n",
    "print(df_filtered)\n"
   ]
  },
  {
   "cell_type": "code",
   "execution_count": 33,
   "id": "2d949731",
   "metadata": {},
   "outputs": [
    {
     "name": "stdout",
     "output_type": "stream",
     "text": [
      "\n",
      "Hasil Kueri:\n",
      "('Risma', 'W', 2022, 157, 120, 'Bekasi')\n",
      "('Putri', 'W', 2022, 155, 55, 'Jakarta')\n",
      "('Aisyah', 'W', 2022, 155, 60, 'Tangerang')\n",
      "('Rhena', 'W', 2022, 155, 70, 'Tangerang')\n",
      "('Chaesa', 'W', 2022, 160, 60, 'Depok')\n",
      "('Sonya', 'W', 2022, 160, 140, 'Jakarta')\n",
      "('Vania', 'W', 2022, 163, 40, 'Jakarta')\n",
      "('Aulia', 'W', 2022, 160, 30, 'Bekasi')\n",
      "('Andri', 'P', 2022, 161, 120, 'Bekasi')\n",
      "('Rabih', 'P', 2022, 175, 120, 'Jakarta')\n",
      "('Isky', 'P', 2022, 171, 30, 'Jakarta')\n",
      "('Candy', 'P', 2022, 170, 15, 'Bekasi')\n",
      "('Ziddan', 'P', 2022, 169, 120, 'Jakarta')\n",
      "('Wayan', 'P', 2022, 172, 15, 'Jakarta')\n",
      "('Evan', 'P', 2022, 165, 20, 'Jakarta')\n",
      "('Rakha', 'P', 2022, 176, 30, 'Bogor')\n",
      "('Fahmi', 'P', 2022, 177, 150, 'Jakarta')\n",
      "('Ery', 'P', 2022, 167, 20, 'Tangerang')\n",
      "('Tarum', 'W', 2022, 159, 60, 'Jakarta')\n",
      "('Fajri', 'P', 2022, 170, 20, 'Jakarta')\n"
     ]
    }
   ],
   "source": [
    "import mysql.connector\n",
    "\n",
    "# Membuat koneksi ke MySQL\n",
    "connection = mysql.connector.connect(\n",
    "    host=\"localhost\",\n",
    "    user=\"root\",\n",
    "    password=\"\",\n",
    "    database=\"ps2[tarum]\"\n",
    ")\n",
    "\n",
    "# Membuat objek cursor untuk mengeksekusi kueri\n",
    "cursor = connection.cursor()\n",
    "\n",
    "try:\n",
    "    # Mengeksekusi kueri SQL\n",
    "    my_query = \"SELECT * FROM ps2;\"\n",
    "    cursor.execute(my_query)\n",
    "    \n",
    "    # Mengambil semua hasil kueri\n",
    "    result = cursor.fetchall()\n",
    "    \n",
    "    # Menampilkan hasil kueri\n",
    "    print(\"\\nHasil Kueri:\")\n",
    "    for row in result:\n",
    "        print(row)\n",
    "\n",
    "finally:\n",
    "    # Menutup kursor dan koneksi\n",
    "    cursor.close()\n",
    "    connection.close()\n",
    "\n"
   ]
  },
  {
   "cell_type": "code",
   "execution_count": 37,
   "id": "b21967b4",
   "metadata": {},
   "outputs": [
    {
     "name": "stdout",
     "output_type": "stream",
     "text": [
      "      Nama Gender  Angkatan  Tinggi Badan  Waktu Perjalanan Wilayah Tinggal\n",
      "0    Risma      W      2022           157               120          Bekasi\n",
      "1    Putri      W      2022           155                55         Jakarta\n",
      "2   Aisyah      W      2022           155                60       Tangerang\n",
      "3    Rhena      W      2022           155                70       Tangerang\n",
      "4   Chaesa      W      2022           160                60           Depok\n",
      "5    Sonya      W      2022           160               140         Jakarta\n",
      "6    Vania      W      2022           163                40         Jakarta\n",
      "7    Aulia      W      2022           160                30          Bekasi\n",
      "18   Tarum      W      2022           159                60         Jakarta\n"
     ]
    }
   ],
   "source": [
    "import pandas as pd\n",
    "# Mengonversi hasil kueri ke DataFrame Pandas\n",
    "df = pd.DataFrame(result, columns=[desc[0] for desc in cursor.description])\n",
    "\n",
    "# Filter data berdasarkan kondisi yang kompleks\n",
    "df_filtered = df[(df['Gender'] == 'W')]\n",
    "\n",
    "# Menampilkan hasil filter\n",
    "print(df_filtered)"
   ]
  },
  {
   "cell_type": "code",
   "execution_count": null,
   "id": "e031417d",
   "metadata": {},
   "outputs": [],
   "source": []
  }
 ],
 "metadata": {
  "kernelspec": {
   "display_name": "Python 3 (ipykernel)",
   "language": "python",
   "name": "python3"
  },
  "language_info": {
   "codemirror_mode": {
    "name": "ipython",
    "version": 3
   },
   "file_extension": ".py",
   "mimetype": "text/x-python",
   "name": "python",
   "nbconvert_exporter": "python",
   "pygments_lexer": "ipython3",
   "version": "3.10.9"
  }
 },
 "nbformat": 4,
 "nbformat_minor": 5
}
