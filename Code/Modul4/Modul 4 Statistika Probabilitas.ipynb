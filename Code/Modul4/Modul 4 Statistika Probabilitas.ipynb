{
 "cells": [
  {
   "cell_type": "markdown",
   "id": "91ac020c-c536-44d7-892b-4477fe94c28c",
   "metadata": {},
   "source": [
    "1.\tSeorang penjual mengatakan bahwa di antara seluruh barang dagangannya yang dibungkus rapih, ada yang rusak sebanyak 10%. Seorang pelanggan membeli barang tersebut sebanyak 15 barang dan memilih secara acak. Jika   adalah banyaknya barang yang rusak dan mengikuti distribusi binomial. \n",
    "Hitunglah: \n",
    "Probabilitas barang rusak tepat sama dengan 3 barang\n"
   ]
  },
  {
   "cell_type": "code",
   "execution_count": 2,
   "id": "3e34277c-9758-4e6c-99e5-75d0ed22835d",
   "metadata": {},
   "outputs": [
    {
     "name": "stdout",
     "output_type": "stream",
     "text": [
      "0.1285054390988551\n"
     ]
    }
   ],
   "source": [
    "from scipy import stats\n",
    "X = stats.binom(15,0.1)\n",
    "print(X.pmf(3)) #P(X = 3)"
   ]
  },
  {
   "cell_type": "code",
   "execution_count": 3,
   "id": "1b9b4454-807a-4543-a627-a1ba4fc752ba",
   "metadata": {},
   "outputs": [
    {
     "name": "stdout",
     "output_type": "stream",
     "text": [
      "0.8159389308936089\n"
     ]
    }
   ],
   "source": [
    "print(X.cdf(2)) #P(X <= 2)"
   ]
  },
  {
   "cell_type": "code",
   "execution_count": 4,
   "id": "ec08204e-c6be-48e8-b933-a76bb83e9abc",
   "metadata": {},
   "outputs": [
    {
     "name": "stdout",
     "output_type": "stream",
     "text": [
      "0.002216045197080002\n"
     ]
    }
   ],
   "source": [
    "print(X.pmf(6)+X.pmf(7))"
   ]
  },
  {
   "cell_type": "markdown",
   "id": "3aa8dfde-36f9-4f62-b010-ce68922a059a",
   "metadata": {},
   "source": [
    "2.\tBanyaknya pelanggan yang datang per menit pada suatu fasilitas pelayanan penukaran uang untuk lebaran diasumsikan mengikuti distribusi Poisson dengan mean (λ) = 5. Hitunglah peluang bahwa dalam 1 menit berikutnya terdapat tepat 4 pelanggan yang akan datang?"
   ]
  },
  {
   "cell_type": "code",
   "execution_count": 5,
   "id": "071102d0-fb8e-4ddb-a2d3-c9b6f4ae35e2",
   "metadata": {},
   "outputs": [
    {
     "name": "stdout",
     "output_type": "stream",
     "text": [
      "0.17546736976785063\n"
     ]
    }
   ],
   "source": [
    "from scipy import stats\n",
    "Y = stats.poisson(5)\n",
    "print(Y.pmf(4)) #P(Y = 4)"
   ]
  },
  {
   "cell_type": "code",
   "execution_count": 6,
   "id": "e3d2bcc3-eb3e-42e1-8699-7af0c65ba0a3",
   "metadata": {},
   "outputs": [
    {
     "name": "stdout",
     "output_type": "stream",
     "text": [
      "0.17886305056987967\n"
     ]
    }
   ],
   "source": [
    "from scipy import stats\n",
    "# Mendefinisikan variabel X sebagai distribusi binomial dnegan 15 percobaan dan probabilitas sukses 0.7\n",
    "X = stats.binom(20,0.7)\n",
    "# Menghitung probabilitas massa X sama dengan 15\n",
    "pmf_15 = X.pmf(15)\n",
    "# Mencetak nilai probabilitas\n",
    "print(pmf_15)"
   ]
  },
  {
   "cell_type": "markdown",
   "id": "56ac047e-4897-479e-ab38-303863c324eb",
   "metadata": {},
   "source": [
    "4.\tDengan rata-rata, sebuah komputer mengalami 2 kejadian rusak dalam sebulan. Tentukan probabilitas bahwa dalam satu bulan, akan terjadi tepat 3 kejadian rusak.\n",
    "Jawab:\n"
   ]
  },
  {
   "cell_type": "code",
   "execution_count": 7,
   "id": "5807389e-486f-49b0-842c-76ca35992c1c",
   "metadata": {},
   "outputs": [
    {
     "name": "stdout",
     "output_type": "stream",
     "text": [
      "0.18044704431548356\n"
     ]
    }
   ],
   "source": [
    "from scipy import stats\n",
    "Y = stats.poisson(2)\n",
    "print(Y.pmf(3))"
   ]
  },
  {
   "cell_type": "markdown",
   "id": "6a3bcf63-df86-4b5a-abc6-2bbb2b041a75",
   "metadata": {},
   "source": [
    "Seorang pengembang perangkat lunak melakukan uji coba pada 15 perangkat untuk mendeteksi kegagalan. Probabilitas bahwa perangkat mengalami kegagalan adalah 0.3. Hitunglah probabilitas bahwa tepat 5 dari 15 perangkat tersebut mengalami kegagalan."
   ]
  },
  {
   "cell_type": "code",
   "execution_count": null,
   "id": "39a5fc23-43d2-4031-9be1-6d626f6c0996",
   "metadata": {},
   "outputs": [],
   "source": [
    "from scipy import stats\n",
    "# Mendefinisikan variabel x sebagai distribusi binomial dengan 15 percobaan dan probabilitas sukses"
   ]
  }
 ],
 "metadata": {
  "kernelspec": {
   "display_name": "Python 3 (ipykernel)",
   "language": "python",
   "name": "python3"
  },
  "language_info": {
   "codemirror_mode": {
    "name": "ipython",
    "version": 3
   },
   "file_extension": ".py",
   "mimetype": "text/x-python",
   "name": "python",
   "nbconvert_exporter": "python",
   "pygments_lexer": "ipython3",
   "version": "3.11.7"
  }
 },
 "nbformat": 4,
 "nbformat_minor": 5
}
