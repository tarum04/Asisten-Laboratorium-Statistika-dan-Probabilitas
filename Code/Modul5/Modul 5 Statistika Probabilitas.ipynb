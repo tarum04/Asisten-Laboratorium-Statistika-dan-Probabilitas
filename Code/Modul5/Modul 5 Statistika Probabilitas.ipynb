{
 "cells": [
  {
   "cell_type": "markdown",
   "id": "bd8e0c70-e585-482d-a691-299475dbef33",
   "metadata": {},
   "source": [
    "1.\tTinggi badan pemain dalam suatu pertandingan bola basket mengikuti distribusi normal dengan rata-rata tinggi adalah 184 cm. Jika standar deviasi 5 cm. \n",
    "\n",
    "a.\tTentukan berapa persen kemungkinan tinggi kurang dari 189 cm\n",
    "b.\tTentukan berapa persen kemungkinan antara 174 cm dan 199 cm"
   ]
  },
  {
   "cell_type": "code",
   "execution_count": null,
   "id": "31d02a8a-70e2-4091-813e-25f303b7331f",
   "metadata": {},
   "outputs": [],
   "source": [
    "from scipy.stats import norm\n",
    "# Menentukan rata-rata dna standar deviasi\n",
    "mean = 184 #rata-rata\n",
    "std_dev = 5 #standar deviasi\n",
    "\n",
    "#Menghitung probabilitas tinggi kurang dari 189 cm\n",
    "height = 189\n",
    "prob_less_than_189 = norm.cdf(height,mean, std_dev)\n",
    "\n",
    "#Menampilkan hasil\n",
    "print(\"probabilitas tinggi kurang dari 189 cm:\", prob_less_than_189)"
   ]
  },
  {
   "cell_type": "code",
   "execution_count": null,
   "id": "6b7a77f1-4b12-4603-bdb5-1cd07690d09c",
   "metadata": {},
   "outputs": [],
   "source": [
    "from scipy.stats import norm\n",
    "# Menentukan rata-rata dna standar deviasi\n",
    "mean = 184 #rata-rata\n",
    "std_dev = 5 #standar deviasi\n",
    "\n",
    "#Menghitung probabilitas tinggi kurang dari 174 cm\n",
    "prob_less_than_174 = norm.cdf(174,mean, std_dev)\n",
    "\n",
    "#Menghitung probabilitas tingggi kurang dari 199 cm\n",
    "prob_less_than_199 = norm.cdf(199, mean, std_dev)\n",
    "\n",
    "#Kemungkinan antara 174 cm dan 199 cm adalah antara probabilitas kurang dari 199 dan kurang dari 174\n",
    "prob_between_174_and_199 = prob_less_than_199 - prob_less_than_174\n",
    "\n",
    "#Menampilkan hasil\n",
    "print(\"Probabilitas tinggi antara 174 cm dan 199 cm:\", prob_between_174_and_199)\n"
   ]
  },
  {
   "cell_type": "markdown",
   "id": "b572df15-5d1c-49ec-a826-2d3243db231d",
   "metadata": {},
   "source": [
    "2.\tSeorang petani menjual apel ke PT. XYZ. Tim dari bagian pengendalian mutu di PT. XYZ menyatakan bahwa berat apel mengikuti distribusi normal dengan rata-rata 173 gram dan standar deviasi 34 gram. Apel dengan berat kurang dari 120 gram adalah apel yang berkualitas “not good”\n",
    "Tentukan peluang apel yang berkualitas “not good”\n"
   ]
  },
  {
   "cell_type": "code",
   "execution_count": null,
   "id": "d2ccbc07-bab4-4a48-9ea1-ff0ef9646f7e",
   "metadata": {},
   "outputs": [],
   "source": [
    "from scipy.stats import norm\n",
    "# Menentukan rata-rata dna standar deviasi\n",
    "mean = 173 #rata-rata\n",
    "std_dev = 34 #standar deviasi\n",
    "\n",
    "#Menghitung\n",
    "prob_not_good = norm.cdf(120, mean, std_dev)\n",
    "\n",
    "#Menampilkan hasil\n",
    "print(\"Peluang apel yang berkualitas 'not good': {:.4f}\".format(prob_not_good))"
   ]
  },
  {
   "cell_type": "markdown",
   "id": "5d1eb24c-63eb-461e-8bd9-ac397aafce5a",
   "metadata": {},
   "source": [
    "3.\tLaju kedatangan pelanggan di sebuah apotik berdistribusi Poisson dengan laju rata-rata tiap 10 menit per pelanggan. Waktu pelayanan berdistribusi eksponensial dengan rerata 8 menit tiap layanan.\n",
    "Tentukanlah rata-rata jumlah pelanggan yang berada dalam sistem (L) dan rata-rata waktu setiap pelanggan berada dalam sistem (W)."
   ]
  },
  {
   "cell_type": "code",
   "execution_count": null,
   "id": "77a43ccd-8c83-4cb1-9731-1d9f5bded9be",
   "metadata": {},
   "outputs": [],
   "source": [
    "#Definisi laju kedatangan dan laju pelayanan\n",
    "arrival_rate = 1/10 #pelanggan per menit\n",
    "service_rate = 1/8 #Pelanggan per menit\n",
    "\n",
    "#Menghitung rata-rata jumlah pelanggan dalam sistem (L)\n",
    "L = arrival_rate / (service_rate - arrival_rate)\n",
    "\n",
    "#Menghitung rata-rata waktu setiap pelanggan berada dalam sistem (W)\n",
    "W = L / arrival_rate\n",
    "\n",
    "#Menampilkan hasil\n",
    "print(\"Rata-rata jumlah pelanggan dalam sistem (L): {:.2f}\".format(L))\n",
    "print(\"Rata-rata waktu setiap pelanggan berada dalam sistem (W): {:.2f}\".format(W))"
   ]
  },
  {
   "cell_type": "markdown",
   "id": "db72ceca-d51c-4dad-9270-4d065b499087",
   "metadata": {},
   "source": [
    "4.\tAndaikan rerata waktu pelayanan di sebuah kasir supermarket adalah 7  menit dan data diketahui berdistribusi eksponensial.\n",
    "Hitunglah peluang seseorang dilayani antara 3 sampai 5 menit\n"
   ]
  },
  {
   "cell_type": "code",
   "execution_count": null,
   "id": "321cfb42-0697-493f-abe5-4fa1cdf6da6d",
   "metadata": {},
   "outputs": [],
   "source": [
    "from scipy.stats import expon\n",
    "\n",
    "#Rerata waktu pelayanan (mu)\n",
    "mean_service_time = 7 #menit\n",
    "\n",
    "#Menghitung peluang seseorang dilayani antara 3 sampai 5 menit\n",
    "prob_between_3_and_5 = expon.cdf(5, scale=mean_service_time) - expon.cdf(3, scale=mean_service_time)\n",
    "\n",
    "#Menampilkan hasil\n",
    "print(\"Peluang seseorang dilayani antara 3 smapai 5 menit: {:.7f}\".format(prob_between_3_and_5))"
   ]
  },
  {
   "cell_type": "markdown",
   "id": "5fed290b-1770-4266-b405-e80b5f7c17fe",
   "metadata": {},
   "source": [
    "5.\tBanyaknya pelanggan yang datang per menit pada suatu fasilitas pelayanan penukaran uang untuk lebaran diasumsikan mengikuti distribusi Poisson dengan mean (λ) 5 pelanggan per menit.\n",
    "Hitunglah peluang bahwa lebih dari 6 pelanggan akan tiba dalam periode 2 menit \n",
    "berikutnya\n"
   ]
  },
  {
   "cell_type": "code",
   "execution_count": null,
   "id": "fe6b719f-3482-43a6-9b46-b4e8340910f2",
   "metadata": {},
   "outputs": [],
   "source": [
    "from scipy.stats import poisson\n",
    "\n",
    "#Rata-ratta pelanggan per menit (lamda)\n",
    "mean_arrival_rate = 5\n",
    "\n",
    "#Menghitung peluang lebih dari 6 pelanggan tiba dalam periode 2 menit\n",
    "prob_more_than_6_arrivals = 1 - poisson.cdf(6, mu=mean_arrival_rate * 2)\n",
    "\n",
    "#Menampilkan hasil\n",
    "print(\"Peluang lebih dari 6 pelanggan akan tiba dalam periode 2 menit berikutnya: {:.7f}\".format(prob_more_than_6_arrivals))"
   ]
  },
  {
   "cell_type": "markdown",
   "id": "619f6f87-fede-48b0-95a6-e3cef658996b",
   "metadata": {},
   "source": [
    "TUGAS\n",
    "1. Tinggi badan pemain dalam suatu pertandingan bola basket mengikuti distribusi normal dengan rata-rata tinggi adalah 184 cm. Jika standar deviasi 5 cm. Tentukan nilai k sedemikian hingga 16,85% pemain basket lebih tinggi dari  k cm"
   ]
  },
  {
   "cell_type": "code",
   "execution_count": null,
   "id": "fad54879-7010-4771-b193-0f7dcfffb25a",
   "metadata": {},
   "outputs": [],
   "source": [
    "from scipy.stats import norm\n",
    "# Menentukan rata-rata dna standar deviasi\n",
    "mean = 184 #rata-rata\n",
    "std_dev = 5 #standar deviasi\n",
    "\n",
    "#Probabilitas tinggi lebih tinggi dari tinggi tertentu\n",
    "prob_more_than = 1 - 0.1685\n",
    "\n",
    "#Menggunakan fungsi quantile untuk menemukan tinggi yang sesuai\n",
    "height = norm.ppf(prob_more_than, mean, std_dev)\n",
    "\n",
    "#Menampilkan hasil\n",
    "print(\"Tinggi sedemikian rupa sehingga 16,85% pemain basket lebih tinggi dari {:.2f} cm\".format(height))"
   ]
  },
  {
   "cell_type": "markdown",
   "id": "6a55ebe8-d23b-4f05-92ed-c597ac477148",
   "metadata": {},
   "source": [
    "2.\tSeorang petani menjual apel ke PT. XYZ. Tim dari bagian pengendalian mutu di PT. XYZ menyatakan bahwa berat apel mengikuti distribusi normal dengan rata-rata 173 gram dan standar deviasi 34 gram. Apel dengan berat kurang dari 120 gram adalah apel yang berkualitas “not good”. Pada sebuah keranjang terdapat 8 apel dari PT. XYZ, tentukan kurang dari sama dengan 2 apel berkualitas “not good”"
   ]
  },
  {
   "cell_type": "code",
   "execution_count": null,
   "id": "6e3c7095-bc95-4603-8c23-487625a5ace5",
   "metadata": {},
   "outputs": [],
   "source": [
    "from scipy.stats import binom\n",
    "\n",
    "#Menentukan parameter distribusi binomial\n",
    "n = 8 #total jumlah apel\n",
    "p = 0.06 #probabilitas apel berkualitas \"not good\"\n",
    "\n",
    "#Menghitung probabilitas jumlah apel berkualitas \"not good\" kurang dari atau sama dengan 2\n",
    "prob_not_good_2_or_less = binom.cdf(2, n, p)\n",
    "\n",
    "#Menampilkan hasil \n",
    "print(\"Probabilitas kurang dari atau sama dengan 2 apel berkualitas 'not good': {:.7f}\".format(prob_not_good_2_or_less))"
   ]
  },
  {
   "cell_type": "markdown",
   "id": "3ac2aeaf-560e-4414-898f-c75dc06a730a",
   "metadata": {},
   "source": [
    "3.\tLaju kedatangan pelanggan di sebuah apotik berdistribusi Poisson dengan laju rata-rata tiap 10 menit per pelanggan. Waktu pelayanan berdistribusi eksponensial dengan rerata 8 menit tiap layanan. Jika kemudian laju kedatangan pelanggan menurun menjadi 16 menit per pelanggan, berapakah nilai L dan W nya."
   ]
  },
  {
   "cell_type": "code",
   "execution_count": null,
   "id": "e6d37328-65f3-4515-a456-2091cfec491b",
   "metadata": {},
   "outputs": [],
   "source": [
    "# Definisi laju kedatangan dan laju pelayanan\n",
    "arrival_rate_new = 1/16  # pelanggan per menit\n",
    "\n",
    "# Menghitung rata-rata jumlah pelanggan dalam sistem (L)\n",
    "L_new = arrival_rate_new / (service_rate - arrival_rate_new)\n",
    "\n",
    "# Menghitung rata-rata waktu setiap pelanggan berada dalam sistem (W)\n",
    "W_new = L_new / arrival_rate_new\n",
    "\n",
    "# Menampilkan hasil\n",
    "print(\"Rata-rata jumlah pelanggan dalam sistem (L) setelah perubahan: {:.2f}\".format(L_new))\n",
    "print(\"Rata-rata waktu setiap pelanggan berada dalam sistem (W) setelah perubahan: {:.2f} menit\".format(W_new))"
   ]
  },
  {
   "cell_type": "markdown",
   "id": "26426192-0413-4afb-8662-fca017785a80",
   "metadata": {},
   "source": [
    "4.\tAndaikan rerata waktu pelayanan di sebuah kasir supermarket adalah 7  menit dan data diketahui berdistribusi eksponensial. Hitung pula peluang seseorang mendapatkan pelayanan lebih dari 8 menit"
   ]
  },
  {
   "cell_type": "code",
   "execution_count": null,
   "id": "b6929db7-adce-49bd-9af6-70b7031874e3",
   "metadata": {},
   "outputs": [],
   "source": [
    "from scipy.stats import expon\n",
    "\n",
    "mean_service_time = 7  # Rata-rata waktu pelayanan dalam menit\n",
    "\n",
    "prob_more_than_8_minutes = 1 - expon.cdf(8, scale=mean_service_time)\n",
    "\n",
    "print(\"Peluang seseorang mendapatkan pelayanan lebih dari 8 menit: {:.7f}\".format(prob_more_than_8_minutes))"
   ]
  },
  {
   "cell_type": "markdown",
   "id": "9170d986-061a-4661-bbda-dc30d28dacd3",
   "metadata": {},
   "source": [
    "5.\tBanyaknya pelanggan yang datang per menit pada suatu fasilitas pelayanan penukaran uang untuk lebaran diasumsikan mengikuti distribusi Poisson dengan mean (λ) 5 pelanggan per menit. Berapa rata-rata jumlah kedatangan selama periode 1 jam?\n",
    "a.\tHitunglah peluang bahwa dalam 1 menit berikutnya terdapat tepat 4 pelanggan yang akan datang?\n",
    "b.\tBerapa rata-rata jumlah kedatangan selama periode 1 jam?"
   ]
  },
  {
   "cell_type": "code",
   "execution_count": null,
   "id": "6e86cf53-d2cf-4370-8660-2bab416acf55",
   "metadata": {},
   "outputs": [],
   "source": [
    "from scipy.stats import poisson\n",
    "\n",
    "mean_arrival_rate = 5  # Rata-rata pelanggan per menit (λ)\n",
    "\n",
    "prob_4_arrivals = poisson.pmf(4, mu=mean_arrival_rate) #Menghitung peluang tepat 4 pelanggan akan datang dalam 1 menit\n",
    "\n",
    "print(\"Peluang bahwa dalam 1 menit berikutnya terdapat tepat 4 pelanggan yang akan datang: {:.7f}\".format(prob_4_arrivals))"
   ]
  },
  {
   "cell_type": "code",
   "execution_count": null,
   "id": "77bd151d-ba57-44c5-bdd6-d7bf7af42343",
   "metadata": {},
   "outputs": [],
   "source": [
    "from scipy.stats import poisson\n",
    "\n",
    "# Rata-rata pelanggan per menit (λ)\n",
    "mean_arrival_rate = 5\n",
    "\n",
    "# Menghitung rata-rata jumlah kedatangan selama periode 1 jam\n",
    "mean_arrivals_per_hour = mean_arrival_rate * 60  # 60 menit dalam satu jam\n",
    "\n",
    "# Menampilkan hasil\n",
    "print(\"Rata-rata jumlah kedatangan selama periode 1 jam: {:.2f}\".format(mean_arrivals_per_hour))"
   ]
  }
 ],
 "metadata": {
  "kernelspec": {
   "display_name": "Python 3 (ipykernel)",
   "language": "python",
   "name": "python3"
  },
  "language_info": {
   "codemirror_mode": {
    "name": "ipython",
    "version": 3
   },
   "file_extension": ".py",
   "mimetype": "text/x-python",
   "name": "python",
   "nbconvert_exporter": "python",
   "pygments_lexer": "ipython3",
   "version": "3.11.7"
  }
 },
 "nbformat": 4,
 "nbformat_minor": 5
}
