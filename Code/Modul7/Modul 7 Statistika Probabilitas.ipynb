{
 "cells": [
  {
   "cell_type": "code",
   "execution_count": 1,
   "id": "fa25bf21-72c0-4c19-a62b-b3581685b242",
   "metadata": {},
   "outputs": [
    {
     "name": "stdout",
     "output_type": "stream",
     "text": [
      "Rata-rata sampel: 9.8375\n",
      "Standar deviasi sampel: 0.5553313039464433\n",
      "t-statistic: -0.8276490169111393\n",
      "p-value: 0.43517369394645455\n",
      "Gagal menolak hipotesis nol (H0)\n"
     ]
    }
   ],
   "source": [
    "import numpy as np\n",
    "from scipy import stats\n",
    "# Data sampel\n",
    "data = [9.5, 10.1, 10.2, 9.8, 10.3, 10.5, 9.5, 8.8]\n",
    "# Rata-rata hipotesis\n",
    "mu = 10\n",
    "# Menghitung rata-rata sampel\n",
    "mean_sample = np.mean(data)\n",
    "print(f\"Rata-rata sampel: {mean_sample}\")\n",
    "# Menghitung standar deviasi sampel\n",
    "std_sample = np.std(data, ddof=1)\n",
    "print(f\"Standar deviasi sampel: {std_sample}\")\n",
    "# Jumlah sampel\n",
    "n = len(data)\n",
    "# Menghitung statistik uji t\n",
    "t_statistic, p_value = stats.ttest_1samp(data, mu)\n",
    "print(f\"t-statistic: {t_statistic}\")\n",
    "print(f\"p-value: {p_value}\")\n",
    "# Menentukan taraf nyata\n",
    "alpha = 0.05\n",
    "# Menentukan keputusan\n",
    "if p_value < alpha:\n",
    "    print(\"Tolak hipotesis nol (H0)\")\n",
    "else:\n",
    "    print(\"Gagal menolak hipotesis nol (H0)\")"
   ]
  },
  {
   "cell_type": "code",
   "execution_count": 2,
   "id": "5001c097-c84f-4d48-a898-db341de58db2",
   "metadata": {},
   "outputs": [
    {
     "name": "stdout",
     "output_type": "stream",
     "text": [
      "Rata-rata sampel: 15300.0\n",
      "Standar deviasi sampel: 1135.2924243950933\n",
      "t-statistic: 2.2283440581246223\n",
      "p-value: 0.05283944651707043\n",
      "Gagal menolak hipotesis nol (H0)\n"
     ]
    }
   ],
   "source": [
    "import numpy as np\n",
    "from scipy import stats\n",
    "# Data sampel\n",
    "data = [15000, 15500, 17500, 14500, 14000, 16000, 14500, 15500, 16500, 14000]\n",
    "# Rata-rata hipotesis\n",
    "mu = 14500\n",
    "# Menghitung rata-rata sampel\n",
    "mean_sample = np.mean(data)\n",
    "print(f\"Rata-rata sampel: {mean_sample}\")\n",
    "# Menghitung standar deviasi sampel\n",
    "std_sample = np.std(data, ddof=1)\n",
    "print(f\"Standar deviasi sampel: {std_sample}\")\n",
    "# Jumlah sampel\n",
    "n = len(data)\n",
    "# Menghitung statistik uji t\n",
    "t_statistic, p_value = stats.ttest_1samp(data, mu)\n",
    "print(f\"t-statistic: {t_statistic}\")\n",
    "print(f\"p-value: {p_value}\")\n",
    "# Menentukan taraf nyata\n",
    "alpha = 0.05\n",
    "# Menentukan keputusan\n",
    "if p_value < alpha:\n",
    "    print(\"Tolak hipotesis nol (H0)\")\n",
    "else:\n",
    "    print(\"Gagal menolak hipotesis nol (H0)\")"
   ]
  },
  {
   "cell_type": "code",
   "execution_count": null,
   "id": "1d755048-2864-423d-ba83-1c105c193af1",
   "metadata": {},
   "outputs": [],
   "source": []
  }
 ],
 "metadata": {
  "kernelspec": {
   "display_name": "Python 3 (ipykernel)",
   "language": "python",
   "name": "python3"
  },
  "language_info": {
   "codemirror_mode": {
    "name": "ipython",
    "version": 3
   },
   "file_extension": ".py",
   "mimetype": "text/x-python",
   "name": "python",
   "nbconvert_exporter": "python",
   "pygments_lexer": "ipython3",
   "version": "3.11.7"
  }
 },
 "nbformat": 4,
 "nbformat_minor": 5
}
