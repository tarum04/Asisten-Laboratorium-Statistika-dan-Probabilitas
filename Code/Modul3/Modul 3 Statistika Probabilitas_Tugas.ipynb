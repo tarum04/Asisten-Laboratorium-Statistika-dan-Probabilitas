{
 "cells": [
  {
   "cell_type": "code",
   "execution_count": 9,
   "id": "221ca972",
   "metadata": {},
   "outputs": [
    {
     "name": "stdout",
     "output_type": "stream",
     "text": [
      "      Nama Gender  Angkatan  Tinggi Badan  Waktu Perjalanan Wilayah Tinggal\n",
      "0    Risma      W      2022           157               120          Bekasi\n",
      "1    Putri      W      2022           155                55         Jakarta\n",
      "2   Aisyah      W      2022           155                60       Tangerang\n",
      "3    Rhena      W      2022           155                70       Tangerang\n",
      "4   Chaesa      W      2022           160                60           Depok\n",
      "5    Sonya      W      2022           160               140         Jakarta\n",
      "6    Vania      W      2022           163                40         Jakarta\n",
      "7    Aulia      W      2022           160                30          Bekasi\n",
      "8    Andri      P      2022           161               120          Bekasi\n",
      "9    Rabih      P      2022           175               120         Jakarta\n",
      "10    Isky      P      2022           171                30         Jakarta\n",
      "11   Candy      P      2022           170                15          Bekasi\n",
      "12  Ziddan      P      2022           169               120         Jakarta\n",
      "13   Wayan      P      2022           172                15         Jakarta\n",
      "14    Evan      P      2022           165                20         Jakarta\n",
      "15   Rakha      P      2022           176                30           Bogor\n",
      "16   Fahmi      P      2022           177               150         Jakarta\n",
      "17     Ery      P      2022           167                20       Tangerang\n",
      "18   Tarum      W      2022           159                60         Jakarta\n",
      "19   Fajri      P      2022           170                20         Jakarta\n"
     ]
    }
   ],
   "source": [
    "import pandas as pd\n",
    "\n",
    "# Membaca data dari clipboard\n",
    "data_tarum1 = pd.read_clipboard()\n",
    "\n",
    "# Menampilkan data\n",
    "print(data_tarum1)\n"
   ]
  },
  {
   "cell_type": "code",
   "execution_count": 10,
   "id": "faa39f13",
   "metadata": {},
   "outputs": [
    {
     "name": "stdout",
     "output_type": "stream",
     "text": [
      "     Nama Gender  Angkatan  Tinggi Badan  Waktu Perjalanan Wilayah Tinggal\n",
      "4  Chaesa      W      2022           160                60           Depok\n",
      "5   Sonya      W      2022           160               140         Jakarta\n",
      "7   Aulia      W      2022           160                30          Bekasi\n"
     ]
    }
   ],
   "source": [
    "tarum1 = data_tarum1[data_tarum1['Tinggi Badan'] == 160]\n",
    "print(tarum1)\n"
   ]
  },
  {
   "cell_type": "code",
   "execution_count": 11,
   "id": "146c591e",
   "metadata": {},
   "outputs": [
    {
     "name": "stdout",
     "output_type": "stream",
     "text": [
      "     Nama Gender  Angkatan Tinggi Badan  Waktu Perjalanan Wilayah Tinggal\n",
      "4  Chaesa      W      2022       Pendek                60           Depok\n",
      "5   Sonya      W      2022       Pendek               140         Jakarta\n",
      "7   Aulia      W      2022       Pendek                30          Bekasi\n"
     ]
    },
    {
     "name": "stderr",
     "output_type": "stream",
     "text": [
      "C:\\Users\\ASUS\\AppData\\Local\\Temp\\ipykernel_20168\\3359261167.py:1: SettingWithCopyWarning: \n",
      "A value is trying to be set on a copy of a slice from a DataFrame.\n",
      "Try using .loc[row_indexer,col_indexer] = value instead\n",
      "\n",
      "See the caveats in the documentation: https://pandas.pydata.org/pandas-docs/stable/user_guide/indexing.html#returning-a-view-versus-a-copy\n",
      "  tarum1['Tinggi Badan'] = pd.to_numeric(tarum1['Tinggi Badan'])\n",
      "C:\\Users\\ASUS\\AppData\\Local\\Temp\\ipykernel_20168\\3359261167.py:5: SettingWithCopyWarning: \n",
      "A value is trying to be set on a copy of a slice from a DataFrame.\n",
      "Try using .loc[row_indexer,col_indexer] = value instead\n",
      "\n",
      "See the caveats in the documentation: https://pandas.pydata.org/pandas-docs/stable/user_guide/indexing.html#returning-a-view-versus-a-copy\n",
      "  tarum1['Tinggi Badan'] = tarum1['Tinggi Badan'].apply(lambda x: 'Tinggi Badan' if x > 160 else 'Pendek')\n"
     ]
    }
   ],
   "source": [
    "tarum1['Tinggi Badan'] = pd.to_numeric(tarum1['Tinggi Badan'])\n",
    "\n",
    "import numpy as np\n",
    "\n",
    "tarum1['Tinggi Badan'] = tarum1['Tinggi Badan'].apply(lambda x: 'Tinggi Badan' if x > 160 else 'Pendek')\n",
    "\n",
    "print(tarum1)\n"
   ]
  },
  {
   "cell_type": "code",
   "execution_count": 15,
   "id": "a7f4a3af",
   "metadata": {},
   "outputs": [
    {
     "name": "stdout",
     "output_type": "stream",
     "text": [
      "     Nama Gender  Angkatan Tinggi Badan  Waktu Perjalanan Wilayah Tinggal  \\\n",
      "4  Chaesa      W      2022       Pendek                60           Depok   \n",
      "5   Sonya      W      2022       Pendek               140         Jakarta   \n",
      "7   Aulia      W      2022       Pendek                30          Bekasi   \n",
      "\n",
      "   Jurusan Fakultas  \n",
      "4  Infor20      FTI  \n",
      "5  Infor20      FTI  \n",
      "7  Infor20      FTI  \n"
     ]
    },
    {
     "name": "stderr",
     "output_type": "stream",
     "text": [
      "C:\\Users\\ASUS\\AppData\\Local\\Temp\\ipykernel_20168\\3603751629.py:2: SettingWithCopyWarning: \n",
      "A value is trying to be set on a copy of a slice from a DataFrame.\n",
      "Try using .loc[row_indexer,col_indexer] = value instead\n",
      "\n",
      "See the caveats in the documentation: https://pandas.pydata.org/pandas-docs/stable/user_guide/indexing.html#returning-a-view-versus-a-copy\n",
      "  tarum1['Jurusan'] = 'Infor20'\n",
      "C:\\Users\\ASUS\\AppData\\Local\\Temp\\ipykernel_20168\\3603751629.py:5: SettingWithCopyWarning: \n",
      "A value is trying to be set on a copy of a slice from a DataFrame.\n",
      "Try using .loc[row_indexer,col_indexer] = value instead\n",
      "\n",
      "See the caveats in the documentation: https://pandas.pydata.org/pandas-docs/stable/user_guide/indexing.html#returning-a-view-versus-a-copy\n",
      "  tarum1['Fakultas'] = 'FTI'\n"
     ]
    }
   ],
   "source": [
    "# Menambah kolom \"Jurusan\" dengan isi baris datanya adalah \"Infor20\"\n",
    "tarum1['Jurusan'] = 'Infor20'\n",
    "\n",
    "# Menambah kolom \"Fakultas\" dengan isi baris datanya adalah \"FTI\"\n",
    "tarum1['Fakultas'] = 'FTI'\n",
    "\n",
    "# Menampilkan DataFrame setelah penambahan kolom baru\n",
    "print(tarum1)\n"
   ]
  },
  {
   "cell_type": "code",
   "execution_count": 17,
   "id": "518149f7",
   "metadata": {},
   "outputs": [
    {
     "name": "stdout",
     "output_type": "stream",
     "text": [
      "     Nama Gender  Angkatan Tinggi Badan  Waktu Perjalanan Wilayah Tinggal\n",
      "4  Chaesa      W      2022       Pendek                60           Depok\n",
      "5   Sonya      W      2022       Pendek               140         Jakarta\n",
      "7   Aulia      W      2022       Pendek                30          Bekasi\n"
     ]
    }
   ],
   "source": [
    "# Menghapus kolom baru 'newvariable' dari DataFrame\n",
    "tarum1 = tarum1.drop(columns=['Jurusan', 'Fakultas'])\n",
    "\n",
    "# Menampilkan DataFrame 'nama' setelah menghapus kolom baru\n",
    "print(tarum1)\n"
   ]
  },
  {
   "cell_type": "code",
   "execution_count": 18,
   "id": "3e5db601",
   "metadata": {},
   "outputs": [
    {
     "name": "stdout",
     "output_type": "stream",
     "text": [
      "      Nama Gender\n",
      "0    Risma      W\n",
      "1    Putri      W\n",
      "2   Aisyah      W\n",
      "3    Rhena      W\n",
      "4   Chaesa      W\n",
      "5    Sonya      W\n",
      "6    Vania      W\n",
      "7    Aulia      W\n",
      "8    Andri      P\n",
      "9    Rabih      P\n",
      "10    Isky      P\n",
      "11   Candy      P\n",
      "12  Ziddan      P\n",
      "13   Wayan      P\n",
      "14    Evan      P\n",
      "15   Rakha      P\n",
      "16   Fahmi      P\n",
      "17     Ery      P\n",
      "18   Tarum      W\n",
      "19   Fajri      P\n"
     ]
    }
   ],
   "source": [
    "# Memilih kolom 1 dan 2 dari DataFrame data_nama\n",
    "kolom1dan2 = data_tarum1.iloc[:, 0:2]\n",
    "\n",
    "# Menampilkan DataFrame kolom1dan2\n",
    "print(kolom1dan2)\n"
   ]
  },
  {
   "cell_type": "code",
   "execution_count": 19,
   "id": "0da1c04d",
   "metadata": {},
   "outputs": [
    {
     "name": "stdout",
     "output_type": "stream",
     "text": [
      "     Nama Gender  Angkatan  Tinggi Badan  Waktu Perjalanan Wilayah Tinggal  \\\n",
      "0   Risma      W      2022           157               120          Bekasi   \n",
      "1   Putri      W      2022           155                55         Jakarta   \n",
      "2  Aisyah      W      2022           155                60       Tangerang   \n",
      "3   Rhena      W      2022           155                70       Tangerang   \n",
      "4  Chaesa      W      2022           160                60           Depok   \n",
      "\n",
      "   Jurusan Fakultas  \n",
      "0  Infor20      FTI  \n",
      "1  Infor20      FTI  \n",
      "2  Infor20      FTI  \n",
      "3  Infor20      FTI  \n",
      "4  Infor20      FTI  \n"
     ]
    },
    {
     "name": "stderr",
     "output_type": "stream",
     "text": [
      "C:\\Users\\ASUS\\AppData\\Local\\Temp\\ipykernel_20168\\558607893.py:4: FutureWarning: The frame.append method is deprecated and will be removed from pandas in a future version. Use pandas.concat instead.\n",
      "  barisgabungan = baris1sd5.append(baris25sd30)\n"
     ]
    }
   ],
   "source": [
    "# Menggabungkan baris dari dua DataFrame\n",
    "baris1sd5 = data_tarum1.iloc[0:5, :]\n",
    "baris25sd30 = data_tarum1.iloc[24:30, :]\n",
    "barisgabungan = baris1sd5.append(baris25sd30)\n",
    "\n",
    "# Menampilkan DataFrame\n",
    "print(barisgabungan)\n"
   ]
  },
  {
   "cell_type": "code",
   "execution_count": 22,
   "id": "d8f5b574",
   "metadata": {},
   "outputs": [
    {
     "name": "stdout",
     "output_type": "stream",
     "text": [
      "      Nama Gender  Angkatan  Tinggi Badan  Waktu Perjalanan Wilayah Tinggal  \\\n",
      "11   Candy      P      2022           170                15          Bekasi   \n",
      "13   Wayan      P      2022           172                15         Jakarta   \n",
      "19   Fajri      P      2022           170                20         Jakarta   \n",
      "17     Ery      P      2022           167                20       Tangerang   \n",
      "14    Evan      P      2022           165                20         Jakarta   \n",
      "7    Aulia      W      2022           160                30          Bekasi   \n",
      "15   Rakha      P      2022           176                30           Bogor   \n",
      "10    Isky      P      2022           171                30         Jakarta   \n",
      "6    Vania      W      2022           163                40         Jakarta   \n",
      "1    Putri      W      2022           155                55         Jakarta   \n",
      "2   Aisyah      W      2022           155                60       Tangerang   \n",
      "4   Chaesa      W      2022           160                60           Depok   \n",
      "18   Tarum      W      2022           159                60         Jakarta   \n",
      "3    Rhena      W      2022           155                70       Tangerang   \n",
      "0    Risma      W      2022           157               120          Bekasi   \n",
      "8    Andri      P      2022           161               120          Bekasi   \n",
      "12  Ziddan      P      2022           169               120         Jakarta   \n",
      "9    Rabih      P      2022           175               120         Jakarta   \n",
      "5    Sonya      W      2022           160               140         Jakarta   \n",
      "16   Fahmi      P      2022           177               150         Jakarta   \n",
      "\n",
      "    Jurusan Fakultas  \n",
      "11  Infor20      FTI  \n",
      "13  Infor20      FTI  \n",
      "19  Infor20      FTI  \n",
      "17  Infor20      FTI  \n",
      "14  Infor20      FTI  \n",
      "7   Infor20      FTI  \n",
      "15  Infor20      FTI  \n",
      "10  Infor20      FTI  \n",
      "6   Infor20      FTI  \n",
      "1   Infor20      FTI  \n",
      "2   Infor20      FTI  \n",
      "4   Infor20      FTI  \n",
      "18  Infor20      FTI  \n",
      "3   Infor20      FTI  \n",
      "0   Infor20      FTI  \n",
      "8   Infor20      FTI  \n",
      "12  Infor20      FTI  \n",
      "9   Infor20      FTI  \n",
      "5   Infor20      FTI  \n",
      "16  Infor20      FTI  \n"
     ]
    }
   ],
   "source": [
    "# Mengurutkan DataFrame \n",
    "data_tarum1_sort = data_tarum1.sort_values(by='Waktu Perjalanan')\n",
    "\n",
    "# Menampilkan DataFrame yang sudah diurutkan\n",
    "print(data_tarum1_sort)\n"
   ]
  },
  {
   "cell_type": "code",
   "execution_count": null,
   "id": "6bf91f48",
   "metadata": {},
   "outputs": [],
   "source": []
  }
 ],
 "metadata": {
  "kernelspec": {
   "display_name": "Python 3 (ipykernel)",
   "language": "python",
   "name": "python3"
  },
  "language_info": {
   "codemirror_mode": {
    "name": "ipython",
    "version": 3
   },
   "file_extension": ".py",
   "mimetype": "text/x-python",
   "name": "python",
   "nbconvert_exporter": "python",
   "pygments_lexer": "ipython3",
   "version": "3.10.9"
  }
 },
 "nbformat": 4,
 "nbformat_minor": 5
}
