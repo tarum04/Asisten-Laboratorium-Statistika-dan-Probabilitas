{
 "cells": [
  {
   "cell_type": "code",
   "execution_count": 2,
   "id": "0c9e52db-a1b3-4822-8016-b917c399417f",
   "metadata": {},
   "outputs": [
    {
     "ename": "NameError",
     "evalue": "name 'df' is not defined",
     "output_type": "error",
     "traceback": [
      "\u001b[1;31m---------------------------------------------------------------------------\u001b[0m",
      "\u001b[1;31mNameError\u001b[0m                                 Traceback (most recent call last)",
      "Cell \u001b[1;32mIn[2], line 6\u001b[0m\n\u001b[0;32m      3\u001b[0m \u001b[38;5;28;01mfrom\u001b[39;00m \u001b[38;5;21;01mscipy\u001b[39;00m\u001b[38;5;21;01m.\u001b[39;00m\u001b[38;5;21;01mstats\u001b[39;00m \u001b[38;5;28;01mimport\u001b[39;00m t\n\u001b[0;32m      5\u001b[0m \u001b[38;5;66;03m# Mengambil data volume dari DataFrame\u001b[39;00m\n\u001b[1;32m----> 6\u001b[0m volume \u001b[38;5;241m=\u001b[39m df[\u001b[38;5;124m'\u001b[39m\u001b[38;5;124mVolume\u001b[39m\u001b[38;5;124m'\u001b[39m]\n\u001b[0;32m      8\u001b[0m \u001b[38;5;66;03m# Menghitung rata-rata dan standar deviasi sampel\u001b[39;00m\n\u001b[0;32m      9\u001b[0m mean_volume \u001b[38;5;241m=\u001b[39m np\u001b[38;5;241m.\u001b[39mmean(volume)\n",
      "\u001b[1;31mNameError\u001b[0m: name 'df' is not defined"
     ]
    }
   ],
   "source": [
    "import pandas as pd\n",
    "import numpy as np\n",
    "from scipy.stats import t\n",
    "\n",
    "# Mengambil data volume dari DataFrame\n",
    "volume = df['Volume']\n",
    "\n",
    "# Menghitung rata-rata dan standar deviasi sampel\n",
    "mean_volume = np.mean(volume)\n",
    "std_dev_volume = np.std(volume, ddof=1)  # ddof=1 untuk sample standard deviation\n",
    "\n",
    "# Menghitung jumlah data\n",
    "n = len(volume)\n",
    "\n",
    "# Menghitung interval kepercayaan 95%\n",
    "confidence_level = 0.95\n",
    "z_score = stats.norm.ppf((1 + confidence_level) / 2)\n",
    "margin_of_error = z_score * (std_dev_volume / np.sqrt(n))\n",
    "lower_bound = mean_volume - margin_of_error\n",
    "upper_bound = mean_volume + margin_of_error\n",
    "\n",
    "print(\"Interval kepercayaan 95% untuk volume rata-rata populasi kemasan oli:\")\n",
    "print(f\"({lower_bound}, {upper_bound})\")"
   ]
  },
  {
   "cell_type": "code",
   "execution_count": null,
   "id": "bed228af-8090-49c9-9d6d-207b4cfee8ed",
   "metadata": {},
   "outputs": [],
   "source": []
  }
 ],
 "metadata": {
  "kernelspec": {
   "display_name": "Python 3 (ipykernel)",
   "language": "python",
   "name": "python3"
  },
  "language_info": {
   "codemirror_mode": {
    "name": "ipython",
    "version": 3
   },
   "file_extension": ".py",
   "mimetype": "text/x-python",
   "name": "python",
   "nbconvert_exporter": "python",
   "pygments_lexer": "ipython3",
   "version": "3.11.7"
  }
 },
 "nbformat": 4,
 "nbformat_minor": 5
}
